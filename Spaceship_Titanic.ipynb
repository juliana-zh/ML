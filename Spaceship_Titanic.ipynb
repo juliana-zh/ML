{
  "nbformat": 4,
  "nbformat_minor": 0,
  "metadata": {
    "colab": {
      "provenance": [],
      "authorship_tag": "ABX9TyM1AcOI9mGgGhR9aIG9+P0n",
      "include_colab_link": true
    },
    "kernelspec": {
      "name": "python3",
      "display_name": "Python 3"
    },
    "language_info": {
      "name": "python"
    }
  },
  "cells": [
    {
      "cell_type": "markdown",
      "metadata": {
        "id": "view-in-github",
        "colab_type": "text"
      },
      "source": [
        "<a href=\"https://colab.research.google.com/github/juliana-zh/machine_learning/blob/main/Spaceship_Titanic.ipynb\" target=\"_parent\"><img src=\"https://colab.research.google.com/assets/colab-badge.svg\" alt=\"Open In Colab\"/></a>"
      ]
    },
    {
      "cell_type": "markdown",
      "source": [
        "# Проект \"Космический корабль Титаник\"\n",
        "Цель: по заданным признакам предсказать, был ли пассажир перемещен в иное измерение аномалией.\n",
        "\n",
        "Проект на платформе Kaggle: https://www.kaggle.com/competitions/spaceship-titanic/overview\n",
        "\n",
        "План:\n",
        "\n",
        "1. Понимание задачи. Посмотреть на признаки, понять, что они означают\n",
        "2. Одномерный анализ. Мы сфокусируемся на зависимом признаке ('SalePrice') и попробуем узнать немного больше о нем.\n",
        "3. Многомерный анализ. Мы попытаемся понять, как зависимые и независимые признаки связаны друг с другом.\n",
        "4. Обработка пропусков, выбросов\n",
        "5. Проверка предположений"
      ],
      "metadata": {
        "id": "ScWixKTHTMk8"
      }
    },
    {
      "cell_type": "code",
      "execution_count": null,
      "metadata": {
        "id": "sVhwmd3-TLOD"
      },
      "outputs": [],
      "source": []
    }
  ]
}