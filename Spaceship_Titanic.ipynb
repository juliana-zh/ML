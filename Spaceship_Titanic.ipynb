{
  "nbformat": 4,
  "nbformat_minor": 0,
  "metadata": {
    "colab": {
      "provenance": [],
      "authorship_tag": "ABX9TyMKjJHt3lMnWzyBecPh7D+5",
      "include_colab_link": true
    },
    "kernelspec": {
      "name": "python3",
      "display_name": "Python 3"
    },
    "language_info": {
      "name": "python"
    }
  },
  "cells": [
    {
      "cell_type": "markdown",
      "metadata": {
        "id": "view-in-github",
        "colab_type": "text"
      },
      "source": [
        "<a href=\"https://colab.research.google.com/github/juliana-zh/machine_learning/blob/main/Spaceship_Titanic.ipynb\" target=\"_parent\"><img src=\"https://colab.research.google.com/assets/colab-badge.svg\" alt=\"Open In Colab\"/></a>"
      ]
    },
    {
      "cell_type": "markdown",
      "source": [
        "# Проект \"Космический корабль Титаник\"\n",
        "Цель: по заданным признакам предсказать, был ли пассажир перемещен в иное измерение аномалией.\n",
        "\n",
        "Проект на платформе Kaggle: https://www.kaggle.com/competitions/spaceship-titanic/overview\n",
        "\n",
        "План:\n",
        "\n",
        "1. Понимание задачи. Посмотреть на признаки, понять, что они означают\n",
        "2. Одномерный анализ. Мы сфокусируемся на зависимом признаке ('SalePrice') и попробуем узнать немного больше о нем.\n",
        "3. Многомерный анализ. Мы попытаемся понять, как зависимые и независимые признаки связаны друг с другом.\n",
        "4. Обработка пропусков, выбросов\n",
        "5. Проверка предположений"
      ],
      "metadata": {
        "id": "ScWixKTHTMk8"
      }
    },
    {
      "cell_type": "code",
      "execution_count": 1,
      "metadata": {
        "id": "sVhwmd3-TLOD"
      },
      "outputs": [],
      "source": [
        "import pandas as pd\n",
        "import matplotlib.pyplot as plt\n",
        "import seaborn as sns\n",
        "import numpy as np\n",
        "from scipy.stats import norm\n",
        "from sklearn.preprocessing import StandardScaler\n",
        "from scipy import stats\n",
        "%matplotlib inline"
      ]
    },
    {
      "cell_type": "code",
      "source": [
        "df_train = pd.read_csv('https://raw.githubusercontent.com/juliana-zh/machine_learning/main/datasets/spaceship_titanic/train.csv')\n",
        "df_test = pd.read_csv('https://raw.githubusercontent.com/juliana-zh/machine_learning/main/datasets/spaceship_titanic/test.csv')"
      ],
      "metadata": {
        "id": "uzBt4639Zbhs"
      },
      "execution_count": 2,
      "outputs": []
    },
    {
      "cell_type": "code",
      "source": [
        "df_train.columns"
      ],
      "metadata": {
        "colab": {
          "base_uri": "https://localhost:8080/"
        },
        "id": "joMobuJBZlo5",
        "outputId": "8c87a096-68cb-4ed8-fb9c-7b27c3515761"
      },
      "execution_count": 3,
      "outputs": [
        {
          "output_type": "execute_result",
          "data": {
            "text/plain": [
              "Index(['PassengerId', 'HomePlanet', 'CryoSleep', 'Cabin', 'Destination', 'Age',\n",
              "       'VIP', 'RoomService', 'FoodCourt', 'ShoppingMall', 'Spa', 'VRDeck',\n",
              "       'Name', 'Transported'],\n",
              "      dtype='object')"
            ]
          },
          "metadata": {},
          "execution_count": 3
        }
      ]
    },
    {
      "cell_type": "markdown",
      "source": [
        "## 1. Понимание задачи\n",
        "\n",
        "Признаки:\n",
        "\n",
        "- **PassengerId** - Уникальный идентификатор для каждого пассажира. Каждый идентификатор имеет форму gggg_pp, где gggg указывает группу, с которой путешествует пассажир, а pp - их номер в группе. Люди в группе часто являются членами семьи, но не всегда.\n",
        "- **HomePlanet** - Планета, с которой отправился пассажир, обычно является его планетой постоянного проживания.\n",
        "- **CryoSleep** - Указывает, выбрал ли пассажир быть помещенным в режим анабиоза на время рейса. Пассажиры, находящиеся в криосне, закрыты в своих каютах.\n",
        "- **Cabin** - Номер каюты, в которой находится пассажир. Принимает вид deck/num/side, где side может быть либо P для левого, либо S для правого борта.\n",
        "- **Destination** - Планета, на которую пассажир высадится.\n",
        "- **Age** - Возраст пассажира.\n",
        "- **VIP** - Оплатил ли пассажир специальное VIP-обслуживание во время рейса.\n",
        "- **RoomService, FoodCourt, ShoppingMall, Spa, VRDeck** - Сумма, которую пассажир потратил на каждое из множества роскошных сервисов космического корабля \"Титаник\".\n",
        "- **Name** - Имя и фамилия пассажира\n",
        "- **Transported** - Был ли пассажир перемещен в иное измерение. Целевой признак."
      ],
      "metadata": {
        "id": "FW5KY16_Z7x5"
      }
    },
    {
      "cell_type": "markdown",
      "source": [
        "## 2. Одномерный анализ"
      ],
      "metadata": {
        "id": "X5fbqdbcg64r"
      }
    }
  ]
}