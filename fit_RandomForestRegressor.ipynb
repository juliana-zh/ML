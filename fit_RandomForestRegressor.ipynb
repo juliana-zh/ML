{
  "nbformat": 4,
  "nbformat_minor": 0,
  "metadata": {
    "colab": {
      "provenance": [],
      "authorship_tag": "ABX9TyP03KcrG9IS4rN8PC4IXY0n",
      "include_colab_link": true
    },
    "kernelspec": {
      "name": "python3",
      "display_name": "Python 3"
    },
    "language_info": {
      "name": "python"
    }
  },
  "cells": [
    {
      "cell_type": "markdown",
      "metadata": {
        "id": "view-in-github",
        "colab_type": "text"
      },
      "source": [
        "<a href=\"https://colab.research.google.com/github/juliana-zh/machine_learning/blob/main/fit_RandomForestRegressor.ipynb\" target=\"_parent\"><img src=\"https://colab.research.google.com/assets/colab-badge.svg\" alt=\"Open In Colab\"/></a>"
      ]
    },
    {
      "cell_type": "markdown",
      "source": [
        "# Обучаем модель класса RandomForestRegressor\n",
        "Считаем среднюю абсолютную ошибку (MAE) на валидационной выборке. Сравниваем со значением этой ошибки у модели DecisionTreeRegressor на той же выборке."
      ],
      "metadata": {
        "id": "geITwThfJHat"
      }
    },
    {
      "cell_type": "code",
      "execution_count": 1,
      "metadata": {
        "id": "TzY-r_FcH9Gs"
      },
      "outputs": [],
      "source": [
        "import pandas as pd\n",
        "\n",
        "# Load data\n",
        "melbourne_file_path = 'https://raw.githubusercontent.com/juliana-zh/machine_learning/main/datasets/melb_data.csv'\n",
        "melbourne_data = pd.read_csv(melbourne_file_path)\n",
        "# Filter rows with missing values\n",
        "melbourne_data = melbourne_data.dropna(axis=0)\n",
        "# Choose target and features\n",
        "y = melbourne_data.Price\n",
        "melbourne_features = ['Rooms', 'Bathroom', 'Landsize', 'BuildingArea',\n",
        "                        'YearBuilt', 'Lattitude', 'Longtitude']\n",
        "X = melbourne_data[melbourne_features]\n",
        "\n",
        "from sklearn.model_selection import train_test_split\n",
        "\n",
        "# split data into training and validation data, for both features and target\n",
        "# The split is based on a random number generator. Supplying a numeric value to\n",
        "# the random_state argument guarantees we get the same split every time we\n",
        "# run this script.\n",
        "train_X, val_X, train_y, val_y = train_test_split(X, y, random_state = 0)"
      ]
    },
    {
      "cell_type": "code",
      "source": [
        "from sklearn.ensemble import RandomForestRegressor\n",
        "from sklearn.metrics import mean_absolute_error\n",
        "\n",
        "forest_model = RandomForestRegressor(random_state=1)\n",
        "forest_model.fit(train_X, train_y)\n",
        "melb_preds = forest_model.predict(val_X)\n",
        "rf_val_mae = mean_absolute_error(val_y, melb_preds)\n",
        "print(\"Validation MAE for Random Forest Model: {:,.0f}\".format(rf_val_mae))"
      ],
      "metadata": {
        "colab": {
          "base_uri": "https://localhost:8080/"
        },
        "id": "WjT3qIZ9IVa-",
        "outputId": "c94dbd2a-a29e-4635-c57a-ffc5f86ae748"
      },
      "execution_count": 9,
      "outputs": [
        {
          "output_type": "stream",
          "name": "stdout",
          "text": [
            "Validation MAE for Random Forest Model: 191,670\n"
          ]
        }
      ]
    },
    {
      "cell_type": "markdown",
      "source": [
        "В сравнении с деревом решений:"
      ],
      "metadata": {
        "id": "XZgDSxLbIgtN"
      }
    },
    {
      "cell_type": "code",
      "source": [
        "from sklearn.tree import DecisionTreeRegressor\n",
        "\n",
        "dt_model = DecisionTreeRegressor(random_state=1)\n",
        "dt_model.fit(train_X, train_y)\n",
        "melb_preds = dt_model.predict(val_X)\n",
        "val_mae = mean_absolute_error(val_y, melb_preds)\n",
        "print(\"Validation MAE when not specifying max_leaf_nodes: {:,.0f}\".format(val_mae))"
      ],
      "metadata": {
        "colab": {
          "base_uri": "https://localhost:8080/"
        },
        "id": "5IJJp4pRLwAf",
        "outputId": "da3a73d1-dfa6-4d66-8cf9-2b3b46b0a337"
      },
      "execution_count": 6,
      "outputs": [
        {
          "output_type": "stream",
          "name": "stdout",
          "text": [
            "Validation MAE when not specifying max_leaf_nodes: 262,494\n"
          ]
        }
      ]
    },
    {
      "cell_type": "code",
      "source": [
        "# with optimal number of leaves\n",
        "dt_model = DecisionTreeRegressor(max_leaf_nodes=500, random_state=1)\n",
        "dt_model.fit(train_X, train_y)\n",
        "melb_preds = dt_model.predict(val_X)\n",
        "val_mae = mean_absolute_error(val_y, melb_preds)\n",
        "print(\"Validation MAE for best value of max_leaf_nodes: {:,.0f}\".format(val_mae))"
      ],
      "metadata": {
        "colab": {
          "base_uri": "https://localhost:8080/"
        },
        "id": "Xd_p5O1uIezl",
        "outputId": "f1b2f37a-cdb0-46b1-9a66-49f68bed833f"
      },
      "execution_count": 7,
      "outputs": [
        {
          "output_type": "stream",
          "name": "stdout",
          "text": [
            "Validation MAE for best value of max_leaf_nodes: 246,794\n"
          ]
        }
      ]
    }
  ]
}