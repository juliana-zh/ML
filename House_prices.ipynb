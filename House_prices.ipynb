{
  "nbformat": 4,
  "nbformat_minor": 0,
  "metadata": {
    "colab": {
      "provenance": [],
      "authorship_tag": "ABX9TyP8Zq5WnRuo5G1QL++jtqPG",
      "include_colab_link": true
    },
    "kernelspec": {
      "name": "python3",
      "display_name": "Python 3"
    },
    "language_info": {
      "name": "python"
    }
  },
  "cells": [
    {
      "cell_type": "markdown",
      "metadata": {
        "id": "view-in-github",
        "colab_type": "text"
      },
      "source": [
        "<a href=\"https://colab.research.google.com/github/juliana-zh/machine_learning/blob/main/House_prices.ipynb\" target=\"_parent\"><img src=\"https://colab.research.google.com/assets/colab-badge.svg\" alt=\"Open In Colab\"/></a>"
      ]
    },
    {
      "cell_type": "markdown",
      "source": [
        "# Проект \"Цены на дома\"\n",
        "\n",
        "**Цель**: по заданным признакам предсказать цены на дома.\n",
        "\n",
        "Проект на платформе Kaggle: https://www.kaggle.com/competitions/house-prices-advanced-regression-techniques/overview\n",
        "\n",
        "**План**:\n",
        "1. Понимание задачи. Посмотреть на признаки, понять, что они означают и сделать первоначальное предположение о важности для решения этой задачи\n",
        "2. Одномерный анализ. Мы сфокусируемся на зависимом признаке ('SalePrice') и попробуем узнать немного больше о нем.\n",
        "3. Многомерный анализ. Мы попытаемся понять, как зависимые и независимые признаки связаны друг с другом.\n",
        "4. Убрать лишнее. Обработка пропусков, выбросов и категориальных признаков.\n",
        "5. Проверка предположений"
      ],
      "metadata": {
        "id": "89D5ia_XjSQ1"
      }
    },
    {
      "cell_type": "code",
      "execution_count": 2,
      "metadata": {
        "id": "-IsVFnjoiHFR"
      },
      "outputs": [],
      "source": [
        "import pandas as pd\n",
        "import matplotlib.pyplot as plt\n",
        "import seaborn as sns\n",
        "import numpy as np\n",
        "from scipy.stats import norm\n",
        "from sklearn.preprocessing import StandardScaler\n",
        "from scipy import stats\n",
        "%matplotlib inline"
      ]
    },
    {
      "cell_type": "code",
      "source": [
        "df_train = pd.read_csv('https://raw.githubusercontent.com/juliana-zh/machine_learning/main/datasets/house_prices/train.csv')"
      ],
      "metadata": {
        "id": "xvLeGS0upOIC"
      },
      "execution_count": 3,
      "outputs": []
    },
    {
      "cell_type": "code",
      "source": [
        "df_train.columns"
      ],
      "metadata": {
        "colab": {
          "base_uri": "https://localhost:8080/"
        },
        "id": "I-PLR6m3pWVi",
        "outputId": "af836d58-8ef6-4c23-a525-3749344d0cdd"
      },
      "execution_count": 4,
      "outputs": [
        {
          "output_type": "execute_result",
          "data": {
            "text/plain": [
              "Index(['Id', 'MSSubClass', 'MSZoning', 'LotFrontage', 'LotArea', 'Street',\n",
              "       'Alley', 'LotShape', 'LandContour', 'Utilities', 'LotConfig',\n",
              "       'LandSlope', 'Neighborhood', 'Condition1', 'Condition2', 'BldgType',\n",
              "       'HouseStyle', 'OverallQual', 'OverallCond', 'YearBuilt', 'YearRemodAdd',\n",
              "       'RoofStyle', 'RoofMatl', 'Exterior1st', 'Exterior2nd', 'MasVnrType',\n",
              "       'MasVnrArea', 'ExterQual', 'ExterCond', 'Foundation', 'BsmtQual',\n",
              "       'BsmtCond', 'BsmtExposure', 'BsmtFinType1', 'BsmtFinSF1',\n",
              "       'BsmtFinType2', 'BsmtFinSF2', 'BsmtUnfSF', 'TotalBsmtSF', 'Heating',\n",
              "       'HeatingQC', 'CentralAir', 'Electrical', '1stFlrSF', '2ndFlrSF',\n",
              "       'LowQualFinSF', 'GrLivArea', 'BsmtFullBath', 'BsmtHalfBath', 'FullBath',\n",
              "       'HalfBath', 'BedroomAbvGr', 'KitchenAbvGr', 'KitchenQual',\n",
              "       'TotRmsAbvGrd', 'Functional', 'Fireplaces', 'FireplaceQu', 'GarageType',\n",
              "       'GarageYrBlt', 'GarageFinish', 'GarageCars', 'GarageArea', 'GarageQual',\n",
              "       'GarageCond', 'PavedDrive', 'WoodDeckSF', 'OpenPorchSF',\n",
              "       'EnclosedPorch', '3SsnPorch', 'ScreenPorch', 'PoolArea', 'PoolQC',\n",
              "       'Fence', 'MiscFeature', 'MiscVal', 'MoSold', 'YrSold', 'SaleType',\n",
              "       'SaleCondition', 'SalePrice'],\n",
              "      dtype='object')"
            ]
          },
          "metadata": {},
          "execution_count": 4
        }
      ]
    },
    {
      "cell_type": "markdown",
      "source": [
        "## 1. Понимание задачи\n",
        "\n",
        "Лучше будет посмотреть на признаки нашего датасета, понять, что они означают и попробовать сначала прикинуть, какие из признаков оказывают большее влияние на проблему.\n",
        "\n",
        "Например, можно было бы расписать для каждого из признаков такую информацию:\n",
        "- имя признака\n",
        "- тип признака (численный или категориальный)\n",
        "- к какой группе по смыслу относится: например: 1)площадь 2) качество 3) локация\n",
        "- ожидания: какое влияние этот нецелевой признак оказывает на целевой признак (можно использовать категории: низкое, среднее, высокое)\n",
        "- вывод: какое влияние этот нецелевой признак оказывает на целевой признак исходя из наших наблюдений за данными\n",
        "- комментрии\n",
        "\n",
        "Колонка \"Ожидания\" важна, и можно было бы попытаться развить навык оценки путем использования следующих вопросов:\n",
        "- думаем ли мы об этом признаке, когда собираемся приобрести дом?\n",
        "- какая степень влияния этого признака на наше решение?\n",
        "- включена ли информация об этом признаке в какой-то другой признак. Пример: число машин в гараже и общая площадь гаража, площадь фундамента и площадь первого этажа\n",
        "\n",
        "После того, как мы продумали все это, берем признаки с высоким ожиданием и строим scatter-график зависимости этих признаков и целевого (здесь 'SalePrice'). Далее мы можем по итогам сделать поправки относительно наших ожиданий в пункте \"вывод\".\n",
        "\n",
        "\n",
        "\n"
      ],
      "metadata": {
        "id": "ggG9qQTznFJ-"
      }
    },
    {
      "cell_type": "markdown",
      "source": [
        "Все переменные указаны тут: https://www.kaggle.com/competitions/house-prices-advanced-regression-techniques/data\n",
        "\n",
        "Предположим, мы изучили данные и наделили некоторые из признаков высоким ожиданием относительно влияния на целевой признак. Пусть в данном случае мы выделили:\n",
        "\n",
        "- OverallQual - общее качество строения\n",
        "- YearBuilt - год постройки\n",
        "- TotalBsmtSF - общая площадь фундамента\n",
        "- GrLivArea - общая жилищная площадь (над фундаментом)\n",
        "\n",
        "Насчет групп признаков: два из них относятся к группе характеристик здания (OverallQual и YearBuilt), два из них - к группе пространства (TotalBsmtSF, GrLivArea)"
      ],
      "metadata": {
        "id": "B1TRW-cssoN3"
      }
    },
    {
      "cell_type": "markdown",
      "source": [
        "Отметим, что box plots более удобны для визуализации категориальных признаков"
      ],
      "metadata": {
        "id": "RZlZEO2cuta5"
      }
    },
    {
      "cell_type": "markdown",
      "source": [
        "## Одномерный анализ"
      ],
      "metadata": {
        "id": "VbXJrEXSx_kA"
      }
    },
    {
      "cell_type": "code",
      "source": [
        "df_train['SalePrice'].describe()"
      ],
      "metadata": {
        "colab": {
          "base_uri": "https://localhost:8080/"
        },
        "id": "DdxgWEW1yE5V",
        "outputId": "f940f802-c7e9-400b-ebbb-339de28f88c2"
      },
      "execution_count": 5,
      "outputs": [
        {
          "output_type": "execute_result",
          "data": {
            "text/plain": [
              "count      1460.000000\n",
              "mean     180921.195890\n",
              "std       79442.502883\n",
              "min       34900.000000\n",
              "25%      129975.000000\n",
              "50%      163000.000000\n",
              "75%      214000.000000\n",
              "max      755000.000000\n",
              "Name: SalePrice, dtype: float64"
            ]
          },
          "metadata": {},
          "execution_count": 5
        }
      ]
    },
    {
      "cell_type": "code",
      "source": [
        "sns.histplot(df_train['SalePrice'], kde=True);"
      ],
      "metadata": {
        "colab": {
          "base_uri": "https://localhost:8080/",
          "height": 449
        },
        "id": "ZtwL6YuwyptR",
        "outputId": "a7d95146-3836-4536-8315-87a98915993f"
      },
      "execution_count": 7,
      "outputs": [
        {
          "output_type": "display_data",
          "data": {
            "text/plain": [
              "<Figure size 640x480 with 1 Axes>"
            ],
            "image/png": "[encoded data removed]"
          },
          "metadata": {}
        }
      ]
    },
    {
      "cell_type": "markdown",
      "source": [
        "Что мы видим?\n",
        "- график отклонен от нормального распределения\n",
        "- положительная ассиметрия (positive skewness) - когда хвост распределения справа длиннее, чем слева\n",
        "- видимый пик"
      ],
      "metadata": {
        "id": "VPrHcHrVzHVl"
      }
    },
    {
      "cell_type": "code",
      "source": [
        "print(\"Skewness: %f\" % df_train['SalePrice'].skew())\n",
        "print(\"Kurtosis: %f\" % df_train['SalePrice'].kurt())"
      ],
      "metadata": {
        "colab": {
          "base_uri": "https://localhost:8080/"
        },
        "id": "N-TwdS8VzvHl",
        "outputId": "35f8c61e-eeab-40c9-c40c-cced40265e45"
      },
      "execution_count": 8,
      "outputs": [
        {
          "output_type": "stream",
          "name": "stdout",
          "text": [
            "Skewness: 1.882876\n",
            "Kurtosis: 6.536282\n"
          ]
        }
      ]
    },
    {
      "cell_type": "markdown",
      "source": [
        "Kurtosis - величина, показывающая то, насколько график имеет длинный хвост. Это зависит от того, насколько много у нас выбросов."
      ],
      "metadata": {
        "id": "sIdrwDft0WZR"
      }
    }
  ]
}