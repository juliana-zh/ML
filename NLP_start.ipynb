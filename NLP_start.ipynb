{
  "nbformat": 4,
  "nbformat_minor": 0,
  "metadata": {
    "colab": {
      "provenance": [],
      "authorship_tag": "ABX9TyMmzsJlvRcQcS5L8x0ftnNS",
      "include_colab_link": true
    },
    "kernelspec": {
      "name": "python3",
      "display_name": "Python 3"
    },
    "language_info": {
      "name": "python"
    }
  },
  "cells": [
    {
      "cell_type": "markdown",
      "metadata": {
        "id": "view-in-github",
        "colab_type": "text"
      },
      "source": [
        "<a href=\"https://colab.research.google.com/github/juliana-zh/ML/blob/main/NLP_start.ipynb\" target=\"_parent\"><img src=\"https://colab.research.google.com/assets/colab-badge.svg\" alt=\"Open In Colab\"/></a>"
      ]
    },
    {
      "cell_type": "markdown",
      "source": [
        "### Предварительная обработка данных (очистка)"
      ],
      "metadata": {
        "id": "GRKrdw4SKVyC"
      }
    },
    {
      "cell_type": "markdown",
      "source": [
        "1. Удалить пунктуацию"
      ],
      "metadata": {
        "id": "bi1DykXEKdOT"
      }
    },
    {
      "cell_type": "code",
      "execution_count": null,
      "metadata": {
        "colab": {
          "base_uri": "https://localhost:8080/",
          "height": 35
        },
        "id": "lDi-1yATJLGv",
        "outputId": "cbf5979c-0ff3-4adc-d046-7049a89900e2"
      },
      "outputs": [
        {
          "output_type": "execute_result",
          "data": {
            "text/plain": [
              "'!\"#$%&\\'()*+,-./:;<=>?@[\\\\]^_`{|}~'"
            ],
            "application/vnd.google.colaboratory.intrinsic+json": {
              "type": "string"
            }
          },
          "metadata": {},
          "execution_count": 1
        }
      ],
      "source": [
        "import string\n",
        "string.punctuation"
      ]
    },
    {
      "cell_type": "code",
      "source": [
        "def remove_punct(text):\n",
        "    text_nonpunct = \"\".join([char for char in text if char not in string.punctuation])\n",
        "    return text_nonpunct"
      ],
      "metadata": {
        "id": "dASHMKrfJYud"
      },
      "execution_count": null,
      "outputs": []
    },
    {
      "cell_type": "code",
      "source": [
        "text = \"Россия священная наша держава, Россия священная наша страна!!!( или нет?.. или все-таки да...)\"\n",
        "orig_ru = text\n",
        "text = remove_punct(text)\n",
        "\n",
        "text"
      ],
      "metadata": {
        "colab": {
          "base_uri": "https://localhost:8080/",
          "height": 35
        },
        "id": "cE9dUWOJJe9Q",
        "outputId": "48c9273e-1cd6-491f-8b04-db2efcc65231"
      },
      "execution_count": null,
      "outputs": [
        {
          "output_type": "execute_result",
          "data": {
            "text/plain": [
              "'Россия священная наша держава Россия священная наша страна или нет или всетаки да'"
            ],
            "application/vnd.google.colaboratory.intrinsic+json": {
              "type": "string"
            }
          },
          "metadata": {},
          "execution_count": 3
        }
      ]
    },
    {
      "cell_type": "markdown",
      "source": [
        "2. Токенизация"
      ],
      "metadata": {
        "id": "JBHnOno5KfyE"
      }
    },
    {
      "cell_type": "markdown",
      "source": [
        "Разобьем на слова:"
      ],
      "metadata": {
        "id": "N02RGH4gKo4r"
      }
    },
    {
      "cell_type": "code",
      "source": [
        "import re\n",
        "\n",
        "def tokenize(text):\n",
        "    tokens = re.split('\\W+', text)\n",
        "    return tokens\n",
        "\n",
        "text = tokenize(text)\n",
        "text"
      ],
      "metadata": {
        "colab": {
          "base_uri": "https://localhost:8080/"
        },
        "id": "gpeLI3FcKoQz",
        "outputId": "b5f23546-fc0d-4b57-b09e-73ea2b9e48f0"
      },
      "execution_count": null,
      "outputs": [
        {
          "output_type": "execute_result",
          "data": {
            "text/plain": [
              "['Россия',\n",
              " 'священная',\n",
              " 'наша',\n",
              " 'держава',\n",
              " 'Россия',\n",
              " 'священная',\n",
              " 'наша',\n",
              " 'страна',\n",
              " 'или',\n",
              " 'нет',\n",
              " 'или',\n",
              " 'всетаки',\n",
              " 'да']"
            ]
          },
          "metadata": {},
          "execution_count": 4
        }
      ]
    },
    {
      "cell_type": "markdown",
      "source": [
        "3. Удаление стоп-слов"
      ],
      "metadata": {
        "id": "7-9vAXtVKzjb"
      }
    },
    {
      "cell_type": "markdown",
      "source": [
        "Стоп-слова - это обычные слова, которые, скорее всего, появятся в любом тексте. Они мало говорят нам о наших данных, поэтому мы их удаляем.\n",
        "NLNK (Natural Language Toolkit) - платформа для создания программ на Python для работы с данными на человеческом языке."
      ],
      "metadata": {
        "id": "qKBYQU6vK9XW"
      }
    },
    {
      "cell_type": "code",
      "source": [
        "import nltk\n",
        "nltk.download('stopwords')\n",
        "stopword = nltk.corpus.stopwords.words('english')\n",
        "\n",
        "def remove_stopwords(text):\n",
        "    text = [word for word in text if word not in stopword]\n",
        "    return text\n",
        "origin = 'I am dating on sunday with my GF!!!'\n",
        "eng_txt = origin\n",
        "eng_txt = remove_punct(eng_txt)\n",
        "eng_txt = tokenize(eng_txt)\n",
        "eng_txt = remove_stopwords(eng_txt)\n",
        "eng_txt"
      ],
      "metadata": {
        "colab": {
          "base_uri": "https://localhost:8080/"
        },
        "id": "pFT1IelILhtH",
        "outputId": "20fb6fb9-109d-44f3-accc-d9da0407170a"
      },
      "execution_count": null,
      "outputs": [
        {
          "output_type": "stream",
          "name": "stderr",
          "text": [
            "[nltk_data] Downloading package stopwords to /root/nltk_data...\n",
            "[nltk_data]   Unzipping corpora/stopwords.zip.\n"
          ]
        },
        {
          "output_type": "execute_result",
          "data": {
            "text/plain": [
              "['I', 'dating', 'sunday', 'GF']"
            ]
          },
          "metadata": {},
          "execution_count": 5
        }
      ]
    },
    {
      "cell_type": "markdown",
      "source": [
        "4. Стемминг"
      ],
      "metadata": {
        "id": "xei8odFBMGnh"
      }
    },
    {
      "cell_type": "markdown",
      "source": [
        "Стемминг – это процесс приведения слова к его основе или корневому формату. Возьмем пример. Рассмотрим три слова: «разветвленный», «разветвленный» и «ветви». Все они могут быть сокращены до одного слова «ветвь». В конце концов, все три передают одну и ту же идею чего-то, разделяющегося на множество путей или ветвей. Опять же, это помогает уменьшить сложность, сохраняя суть значения, которое несут эти три слова."
      ],
      "metadata": {
        "id": "tXkQBYlBMuSn"
      }
    },
    {
      "cell_type": "code",
      "source": [
        "ps = nltk.PorterStemmer()\n",
        "\n",
        "def stemming(tokenized_text):\n",
        "    tokenized_text = [ps.stem(word) for word in tokenized_text]\n",
        "    return tokenized_text\n",
        "\n",
        "eng_txt_stem = stemming(eng_txt)\n",
        "eng_txt_stem"
      ],
      "metadata": {
        "colab": {
          "base_uri": "https://localhost:8080/"
        },
        "id": "XmWqckEuNV2Q",
        "outputId": "4c49dfff-2ae3-408c-96cb-c9f7236e5985"
      },
      "execution_count": null,
      "outputs": [
        {
          "output_type": "execute_result",
          "data": {
            "text/plain": [
              "['i', 'date', 'sunday', 'gf']"
            ]
          },
          "metadata": {},
          "execution_count": 6
        }
      ]
    },
    {
      "cell_type": "markdown",
      "source": [
        "5. Лемматизация"
      ],
      "metadata": {
        "id": "WHvQPMt8NjBw"
      }
    },
    {
      "cell_type": "markdown",
      "source": [
        "Лемматизация – это процесс преобразования слова в его базовую форму. Разница между стемминг (stemming) и лемматизацией заключается в том, что лемматизация учитывает контекст и преобразует слово в его значимую базовую форму, тогда как стемминг просто удаляет последние несколько символов, что часто приводит к неверному значению и орфографическим ошибкам. Использует подход на основе словаря."
      ],
      "metadata": {
        "id": "nyhaXw5tNoNv"
      }
    },
    {
      "cell_type": "code",
      "source": [
        "nltk.download('wordnet')\n",
        "\n",
        "wn = nltk.WordNetLemmatizer()\n",
        "\n",
        "def lemmatizing(tokenized_text):\n",
        "    tokenized_text = [wn.lemmatize(word) for word in tokenized_text]\n",
        "    return tokenized_text\n",
        "\n",
        "eng_text_lem = lemmatizing(eng_txt)\n",
        "eng_text_lem"
      ],
      "metadata": {
        "colab": {
          "base_uri": "https://localhost:8080/"
        },
        "id": "GfRDdYbbOj0f",
        "outputId": "24595fe8-a441-4625-a680-e3bcf03b4971"
      },
      "execution_count": null,
      "outputs": [
        {
          "output_type": "stream",
          "name": "stderr",
          "text": [
            "[nltk_data] Downloading package wordnet to /root/nltk_data...\n"
          ]
        },
        {
          "output_type": "execute_result",
          "data": {
            "text/plain": [
              "['I', 'dating', 'sunday', 'GF']"
            ]
          },
          "metadata": {},
          "execution_count": 7
        }
      ]
    },
    {
      "cell_type": "markdown",
      "source": [
        "6. Векторизация данных"
      ],
      "metadata": {
        "id": "-yq8xVqnPAFy"
      }
    },
    {
      "cell_type": "markdown",
      "source": [
        "Векторизация - это процесс кодирования текста в виде целых чисел, то есть числовой формы для создания векторов признаков, чтобы алгоритмы машинного обучения могли понимать наши данные."
      ],
      "metadata": {
        "id": "33g0HNY2PCu-"
      }
    },
    {
      "cell_type": "code",
      "source": [
        "def clean_text(text):\n",
        "    text = \"\".join([word.lower() for word in text if word not in string.punctuation])\n",
        "    tokens = re.split('\\W+', text)\n",
        "    text = [ps.stem(word) for word in tokens if word not in stopword]\n",
        "    return text"
      ],
      "metadata": {
        "id": "-pMdkSsAQPj1"
      },
      "execution_count": null,
      "outputs": []
    },
    {
      "cell_type": "markdown",
      "source": [
        "Bag of Words (BoW) - метод, который показывает, есть ли то или иное слово в документе. Мы получаем на выход результат 1, если наше слово присутствует в предложении и 0, если не присутствует.\n",
        "Алгоритмы машинного обучения не могут напрямую работать с сырым текстом, поэтому его необходимо конвертировать в векторы. Это называется извлечением признаков.\n",
        "Мешок слов – это техника извлечения признаков, которая описывает объемы вхождения каждого слова в заданный текст.\n",
        "CountVectorizer - специальный класс для отражения, есть ли то или иное слово в документе."
      ],
      "metadata": {
        "id": "lKC2s3w6pq9w"
      }
    },
    {
      "cell_type": "markdown",
      "source": [
        "Алгоритм:\n",
        "1) Представим, что это наши данные:\n",
        "\n",
        "I like this movie, it's funny.\n",
        "I hate this movie.\n",
        "This was awesome! I like it.\n",
        "Nice one. I love it.\n",
        "\n",
        "Разделим по строкам:\n",
        "\n",
        "\n"
      ],
      "metadata": {
        "id": "vWQ7gXzOUsBd"
      }
    },
    {
      "cell_type": "code",
      "source": [
        "data = [\"I like this movie, it's funny.\", 'I hate this movie.', 'This was awesome! I like it.', 'Nice one. I love it.']"
      ],
      "metadata": {
        "id": "lMxwdf58V2Vs"
      },
      "execution_count": null,
      "outputs": []
    },
    {
      "cell_type": "markdown",
      "source": [
        "2) Определяем словарь\n",
        "\n",
        "Соберем все уникальные слова из 4 загруженных предложений, игнорируя регистр, пунктуацию и односимвольные токены. Это и будет наш словарь (известные слова). Для создания словаря можно использовать класс CountVectorizer из библиотеки sklearn.\n",
        "\n",
        "3) Создаём векторы документа\n",
        "\n",
        "Далее, мы должны оценить слова в документе. На этом шаге наша цель – превратить сырой текст в вектор. После этого, мы используем эти наборы как входные данные для модели машинного обучения. Простейший метод оценки – это отметить наличие слов, то есть ставить 1, если есть слово и 0 при его отсутствии.\n",
        "\n",
        "Теперь мы можем создать мешок слов используя вышеупомянутый класс CountVectorizer."
      ],
      "metadata": {
        "id": "8SrlX5htVsWn"
      }
    },
    {
      "cell_type": "code",
      "source": [
        "from sklearn.feature_extraction.text import CountVectorizer\n",
        "\n",
        "count_vect = CountVectorizer(analyzer=clean_text)\n",
        "X_counts = count_vect.fit_transform(data)\n",
        "print(X_counts.shape)\n",
        "print(count_vect.get_feature_names_out())\n",
        "print(X_counts.toarray())"
      ],
      "metadata": {
        "colab": {
          "base_uri": "https://localhost:8080/"
        },
        "id": "BJjOrmE5VDa7",
        "outputId": "82ae94bc-9937-4d9b-c6c1-b598ec34561c"
      },
      "execution_count": null,
      "outputs": [
        {
          "output_type": "stream",
          "name": "stdout",
          "text": [
            "(4, 8)\n",
            "['awesom' 'funni' 'hate' 'like' 'love' 'movi' 'nice' 'one']\n",
            "[[0 1 0 1 0 1 0 0]\n",
            " [0 0 1 0 0 1 0 0]\n",
            " [1 0 0 1 0 0 0 0]\n",
            " [0 0 0 0 1 0 1 1]]\n"
          ]
        }
      ]
    },
    {
      "cell_type": "markdown",
      "source": [
        "N-граммы это просто все комбинации смежных слов или букв длины n, которые мы можем найти в нашем исходном тексте. N-граммы с n = 1 называются униграммами. Точно так же можно использовать биграммы (n = 2), триграммы (n = 3)"
      ],
      "metadata": {
        "id": "pF7aRf1kVC5k"
      }
    },
    {
      "cell_type": "code",
      "source": [
        "from sklearn.feature_extraction.text import CountVectorizer\n",
        "\n",
        "ngram_vect = CountVectorizer(ngram_range=(2,2), analyzer=clean_text)\n",
        "X_counts = ngram_vect.fit_transform(data)\n",
        "print(X_counts.shape)\n",
        "print(ngram_vect.get_feature_names_out())\n",
        "print(X_counts.toarray())"
      ],
      "metadata": {
        "colab": {
          "base_uri": "https://localhost:8080/"
        },
        "id": "KEbA8j1EX9zf",
        "outputId": "23d3e656-97fb-434f-f5d8-4647f6b1096d"
      },
      "execution_count": null,
      "outputs": [
        {
          "output_type": "stream",
          "name": "stdout",
          "text": [
            "(4, 8)\n",
            "['awesom' 'funni' 'hate' 'like' 'love' 'movi' 'nice' 'one']\n",
            "[[0 1 0 1 0 1 0 0]\n",
            " [0 0 1 0 0 1 0 0]\n",
            " [1 0 0 1 0 0 0 0]\n",
            " [0 0 0 0 1 0 1 1]]\n"
          ]
        },
        {
          "output_type": "stream",
          "name": "stderr",
          "text": [
            "/usr/local/lib/python3.10/dist-packages/sklearn/feature_extraction/text.py:544: UserWarning: The parameter 'ngram_range' will not be used since 'analyzer' is callable'\n",
            "  warnings.warn(\n"
          ]
        }
      ]
    },
    {
      "cell_type": "markdown",
      "source": [
        "### TF-IDF (сокращение от term frequency — inverse document frequency)"
      ],
      "metadata": {
        "id": "eJ1Lri2HXdOj"
      }
    },
    {
      "cell_type": "markdown",
      "source": [
        "Является показателем того, насколько слово w является специфичным для конкретного текста. Используется для оценки в поисковых системах, суммирования текста, кластеризации документов."
      ],
      "metadata": {
        "id": "1JyF0G0hXfzo"
      }
    },
    {
      "cell_type": "code",
      "source": [
        "from sklearn.feature_extraction.text import TfidfVectorizer\n",
        "import pandas as pd\n",
        "\n",
        "tfidf_vect = TfidfVectorizer(analyzer=clean_text)\n",
        "X_tfidf = tfidf_vect.fit_transform(data)\n",
        "print(X_tfidf.shape)\n",
        "print(tfidf_vect.get_feature_names_out())\n",
        "print(pd.DataFrame(X_tfidf.toarray()))"
      ],
      "metadata": {
        "colab": {
          "base_uri": "https://localhost:8080/"
        },
        "id": "mX6bwvAvYEWo",
        "outputId": "14e4340c-4a7d-4401-989f-6663d9377e4f"
      },
      "execution_count": null,
      "outputs": [
        {
          "output_type": "stream",
          "name": "stdout",
          "text": [
            "(4, 8)\n",
            "['awesom' 'funni' 'hate' 'like' 'love' 'movi' 'nice' 'one']\n",
            "          0         1         2         3        4         5        6        7\n",
            "0  0.000000  0.667679  0.000000  0.526405  0.00000  0.526405  0.00000  0.00000\n",
            "1  0.000000  0.000000  0.785288  0.000000  0.00000  0.619130  0.00000  0.00000\n",
            "2  0.785288  0.000000  0.000000  0.619130  0.00000  0.000000  0.00000  0.00000\n",
            "3  0.000000  0.000000  0.000000  0.000000  0.57735  0.000000  0.57735  0.57735\n"
          ]
        }
      ]
    },
    {
      "cell_type": "markdown",
      "source": [
        "Напомним, что векторизаторы выводят разреженные матрицы.\n",
        "Разреженная матрица это матрица, в которой большинство значений равно 0."
      ],
      "metadata": {
        "id": "_opFbNewZjr5"
      }
    },
    {
      "cell_type": "markdown",
      "source": [
        "У частотного скоринга есть проблема: слова с наибольшей частотностью имеют, соответственно, наибольшую оценку. В этих словах может быть не так много информационного выигрыша для модели, как в менее частых словах. Один из способов исправить ситуацию – понижать оценку слова, которое часто встречается во всех схожих документах. Это называется TF-IDF."
      ],
      "metadata": {
        "id": "tKOr3nwlaANO"
      }
    },
    {
      "cell_type": "markdown",
      "source": [
        "Оценка по TF-IDF растет пропорционально частоте появления слова в документе, но это компенсируется количеством документов, содержащих это слово."
      ],
      "metadata": {
        "id": "gCUfC9-oaRVV"
      }
    },
    {
      "cell_type": "markdown",
      "source": [
        "![загруженное.png](data:image/png;base64,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)"
      ],
      "metadata": {
        "id": "Bfeq7UQvTno1"
      }
    },
    {
      "cell_type": "markdown",
      "source": [
        "TF_IDF: x в документе y"
      ],
      "metadata": {
        "id": "E0IsL8sZcz6Q"
      }
    },
    {
      "cell_type": "markdown",
      "source": [
        "tf_x_y - частота x в y\n",
        "df_x - число документов, содержащих х\n",
        "N - общее количество документов"
      ],
      "metadata": {
        "id": "fqq6WKOZc60Y"
      }
    },
    {
      "cell_type": "markdown",
      "source": [
        "w_x_y = tf_x_y * log(N / df_x)"
      ],
      "metadata": {
        "id": "7qvpApfhbtBI"
      }
    },
    {
      "cell_type": "markdown",
      "source": [
        "### Feature Engineering: создание признаков"
      ],
      "metadata": {
        "id": "SSlB3PCydqrx"
      }
    },
    {
      "cell_type": "markdown",
      "source": [
        "Feature Engineering - это процесс использования знаний о предметной области для создания признаков, которые подаются на вход алгоритмам машинного обучения. Это похоже на искусство, поскольку требует знания предметной области и может быть делом трудным. Зато в итоге алгоритм ML может сделать более точный прогноз."
      ],
      "metadata": {
        "id": "OP-JNnE9eSN4"
      }
    }
  ]
}